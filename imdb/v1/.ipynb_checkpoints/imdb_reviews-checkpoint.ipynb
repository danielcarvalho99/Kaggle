{
 "cells": [
  {
   "cell_type": "markdown",
   "id": "e307f4d4",
   "metadata": {},
   "source": [
    "## Leitura dos Dados"
   ]
  },
  {
   "cell_type": "code",
   "execution_count": 202,
   "id": "91e44023",
   "metadata": {},
   "outputs": [],
   "source": [
    "import pandas as pd\n",
    "import numpy as np\n",
    "from sklearn.model_selection import train_test_split\n",
    "from sklearn.feature_extraction.text import CountVectorizer"
   ]
  },
  {
   "cell_type": "code",
   "execution_count": 195,
   "id": "8b541306",
   "metadata": {
    "scrolled": true
   },
   "outputs": [
    {
     "data": {
      "text/html": [
       "<div>\n",
       "<style scoped>\n",
       "    .dataframe tbody tr th:only-of-type {\n",
       "        vertical-align: middle;\n",
       "    }\n",
       "\n",
       "    .dataframe tbody tr th {\n",
       "        vertical-align: top;\n",
       "    }\n",
       "\n",
       "    .dataframe thead th {\n",
       "        text-align: right;\n",
       "    }\n",
       "</style>\n",
       "<table border=\"1\" class=\"dataframe\">\n",
       "  <thead>\n",
       "    <tr style=\"text-align: right;\">\n",
       "      <th></th>\n",
       "      <th>review</th>\n",
       "      <th>sentiment</th>\n",
       "    </tr>\n",
       "  </thead>\n",
       "  <tbody>\n",
       "    <tr>\n",
       "      <th>0</th>\n",
       "      <td>One of the other reviewers has mentioned that ...</td>\n",
       "      <td>positive</td>\n",
       "    </tr>\n",
       "    <tr>\n",
       "      <th>1</th>\n",
       "      <td>A wonderful little production. &lt;br /&gt;&lt;br /&gt;The...</td>\n",
       "      <td>positive</td>\n",
       "    </tr>\n",
       "    <tr>\n",
       "      <th>2</th>\n",
       "      <td>I thought this was a wonderful way to spend ti...</td>\n",
       "      <td>positive</td>\n",
       "    </tr>\n",
       "    <tr>\n",
       "      <th>3</th>\n",
       "      <td>Basically there's a family where a little boy ...</td>\n",
       "      <td>negative</td>\n",
       "    </tr>\n",
       "    <tr>\n",
       "      <th>4</th>\n",
       "      <td>Petter Mattei's \"Love in the Time of Money\" is...</td>\n",
       "      <td>positive</td>\n",
       "    </tr>\n",
       "    <tr>\n",
       "      <th>5</th>\n",
       "      <td>Probably my all-time favorite movie, a story o...</td>\n",
       "      <td>positive</td>\n",
       "    </tr>\n",
       "    <tr>\n",
       "      <th>6</th>\n",
       "      <td>I sure would like to see a resurrection of a u...</td>\n",
       "      <td>positive</td>\n",
       "    </tr>\n",
       "    <tr>\n",
       "      <th>7</th>\n",
       "      <td>This show was an amazing, fresh &amp; innovative i...</td>\n",
       "      <td>negative</td>\n",
       "    </tr>\n",
       "    <tr>\n",
       "      <th>8</th>\n",
       "      <td>Encouraged by the positive comments about this...</td>\n",
       "      <td>negative</td>\n",
       "    </tr>\n",
       "    <tr>\n",
       "      <th>9</th>\n",
       "      <td>If you like original gut wrenching laughter yo...</td>\n",
       "      <td>positive</td>\n",
       "    </tr>\n",
       "  </tbody>\n",
       "</table>\n",
       "</div>"
      ],
      "text/plain": [
       "                                              review sentiment\n",
       "0  One of the other reviewers has mentioned that ...  positive\n",
       "1  A wonderful little production. <br /><br />The...  positive\n",
       "2  I thought this was a wonderful way to spend ti...  positive\n",
       "3  Basically there's a family where a little boy ...  negative\n",
       "4  Petter Mattei's \"Love in the Time of Money\" is...  positive\n",
       "5  Probably my all-time favorite movie, a story o...  positive\n",
       "6  I sure would like to see a resurrection of a u...  positive\n",
       "7  This show was an amazing, fresh & innovative i...  negative\n",
       "8  Encouraged by the positive comments about this...  negative\n",
       "9  If you like original gut wrenching laughter yo...  positive"
      ]
     },
     "execution_count": 195,
     "metadata": {},
     "output_type": "execute_result"
    }
   ],
   "source": [
    "df = pd.read_csv('../imdb_reviews.csv')\n",
    "df.head(10)"
   ]
  },
  {
   "cell_type": "code",
   "execution_count": 208,
   "id": "b4429f51",
   "metadata": {},
   "outputs": [
    {
     "data": {
      "text/plain": [
       "array([32348, 42105, 16876, 21039, 14527, 21796, 39662, 42565, 17341,\n",
       "       14954])"
      ]
     },
     "execution_count": 208,
     "metadata": {},
     "output_type": "execute_result"
    }
   ],
   "source": [
    "idx = np.arange(df.shape[0])\n",
    "train_idx = np.random.choice(idx, (), replace=False)\n",
    "val_idx = np.random.choice(idx, 10, replace=False)"
   ]
  },
  {
   "cell_type": "markdown",
   "id": "79ae8eb3",
   "metadata": {},
   "source": [
    "# Funções"
   ]
  },
  {
   "cell_type": "code",
   "execution_count": 216,
   "id": "4ba58005",
   "metadata": {},
   "outputs": [],
   "source": [
    "def map_sentiments(x):\n",
    "    if x == 'positive':\n",
    "        return 1\n",
    "    return 0\n",
    "\n",
    "def create_bag_of_words(df_train, df_val, text_col, vocab_size=1000):\n",
    "    vectorizer = CountVectorizer(max_features=vocab_size)\n",
    "    \n",
    "    X_train = vectorizer.fit_transform(df_train[text_col].values)\n",
    "    X_val = vectorizer.transform(df_val[text_col].values)\n",
    "    \n",
    "    bow_train = pd.DataFrame(X_train.toarray(), columns=vectorizer.get_feature_names_out())\n",
    "    bow_val = pd.DataFrame(X_val.toarray(), columns=vectorizer.get_feature_names_out())\n",
    "    \n",
    "    df_train['target_val'] = df_train['sentiment'].values\n",
    "    df_val['target_val'] = df_val['sentiment'].values\n",
    "    \n",
    "    return bow_train, bow_val\n",
    "\n",
    "def cross_validation(df, model, score_func, k=5):\n",
    "    idx_list = np.arange(df.shape[0])\n",
    "    test_size = int((1/k) * len(idx_list)) \n",
    "    \n",
    "    for _ in range(k):\n",
    "        train_idx = np.random.choice(idx_list, len(idx_list) - test_size, replace=False)\n",
    "        test_idx = np.random.choice(idx_list, test_size, replace=False)\n",
    "        \n",
    "        df_train = df[train_idx]\n",
    "        df_test = df[test_idx]\n",
    "        \n",
    "        bow_train, bow_test = create_bag_of_words(df_train, df_test, 'review') \n",
    "        \n",
    "        X_train = bow_train.drop('target_val', axis=1)\n",
    "        y_train = bow_train['target_val'].values\n",
    "        \n",
    "        X_test = bow_test.drop('target_val', axis=1)\n",
    "        y_test = bow_test['target_val'].values\n",
    "        \n",
    "        model.fit(X_train, y_train)\n",
    "        preds = model.predict(X_test)\n",
    "        \n",
    "        print(score_func(y_test, preds))\n",
    "        "
   ]
  },
  {
   "cell_type": "code",
   "execution_count": 189,
   "id": "6f2d1a25",
   "metadata": {},
   "outputs": [],
   "source": [
    "df['sentiment'] = df['sentiment'].apply(map_sentiments)"
   ]
  },
  {
   "cell_type": "code",
   "execution_count": 190,
   "id": "a714d83f",
   "metadata": {},
   "outputs": [
    {
     "name": "stdout",
     "output_type": "stream",
     "text": [
      "df_train shape: (40000, 2)\n",
      "df_val shape: (10000, 2)\n"
     ]
    }
   ],
   "source": [
    "df_train, df_val = train_test_split(df, test_size=0.2, random_state=42)\n",
    "\n",
    "print(f\"df_train shape: {df_train.shape}\")\n",
    "print(f\"df_val shape: {df_val.shape}\")"
   ]
  },
  {
   "cell_type": "code",
   "execution_count": 197,
   "id": "e04e0a45",
   "metadata": {},
   "outputs": [],
   "source": [
    "bow_train, bow_val = create_bag_of_words(df_train, df_val, 'review', 1000)"
   ]
  },
  {
   "cell_type": "code",
   "execution_count": null,
   "id": "7910ab01",
   "metadata": {},
   "outputs": [],
   "source": []
  }
 ],
 "metadata": {
  "kernelspec": {
   "display_name": "Python 3 (ipykernel)",
   "language": "python",
   "name": "python3"
  },
  "language_info": {
   "codemirror_mode": {
    "name": "ipython",
    "version": 3
   },
   "file_extension": ".py",
   "mimetype": "text/x-python",
   "name": "python",
   "nbconvert_exporter": "python",
   "pygments_lexer": "ipython3",
   "version": "3.11.5"
  }
 },
 "nbformat": 4,
 "nbformat_minor": 5
}
