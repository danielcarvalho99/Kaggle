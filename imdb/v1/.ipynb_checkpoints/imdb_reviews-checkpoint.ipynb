{
 "cells": [
  {
   "cell_type": "markdown",
   "id": "8655d81f",
   "metadata": {},
   "source": [
    "## Leitura dos Dados"
   ]
  },
  {
   "cell_type": "code",
   "execution_count": 24,
   "id": "91e44023",
   "metadata": {},
   "outputs": [],
   "source": [
    "import pandas as pd\n",
    "import numpy as np\n",
    "from sklearn.model_selection import train_test_split\n",
    "from sklearn.metrics import accuracy_score\n",
    "from sklearn.linear_model import LogisticRegression\n",
    "from sklearn.feature_extraction.text import CountVectorizer"
   ]
  },
  {
   "cell_type": "code",
   "execution_count": 25,
   "id": "8b541306",
   "metadata": {
    "scrolled": true
   },
   "outputs": [
    {
     "data": {
      "text/html": [
       "<div>\n",
       "<style scoped>\n",
       "    .dataframe tbody tr th:only-of-type {\n",
       "        vertical-align: middle;\n",
       "    }\n",
       "\n",
       "    .dataframe tbody tr th {\n",
       "        vertical-align: top;\n",
       "    }\n",
       "\n",
       "    .dataframe thead th {\n",
       "        text-align: right;\n",
       "    }\n",
       "</style>\n",
       "<table border=\"1\" class=\"dataframe\">\n",
       "  <thead>\n",
       "    <tr style=\"text-align: right;\">\n",
       "      <th></th>\n",
       "      <th>review</th>\n",
       "      <th>sentiment</th>\n",
       "    </tr>\n",
       "  </thead>\n",
       "  <tbody>\n",
       "    <tr>\n",
       "      <th>0</th>\n",
       "      <td>One of the other reviewers has mentioned that ...</td>\n",
       "      <td>positive</td>\n",
       "    </tr>\n",
       "    <tr>\n",
       "      <th>1</th>\n",
       "      <td>A wonderful little production. &lt;br /&gt;&lt;br /&gt;The...</td>\n",
       "      <td>positive</td>\n",
       "    </tr>\n",
       "    <tr>\n",
       "      <th>2</th>\n",
       "      <td>I thought this was a wonderful way to spend ti...</td>\n",
       "      <td>positive</td>\n",
       "    </tr>\n",
       "    <tr>\n",
       "      <th>3</th>\n",
       "      <td>Basically there's a family where a little boy ...</td>\n",
       "      <td>negative</td>\n",
       "    </tr>\n",
       "    <tr>\n",
       "      <th>4</th>\n",
       "      <td>Petter Mattei's \"Love in the Time of Money\" is...</td>\n",
       "      <td>positive</td>\n",
       "    </tr>\n",
       "    <tr>\n",
       "      <th>5</th>\n",
       "      <td>Probably my all-time favorite movie, a story o...</td>\n",
       "      <td>positive</td>\n",
       "    </tr>\n",
       "    <tr>\n",
       "      <th>6</th>\n",
       "      <td>I sure would like to see a resurrection of a u...</td>\n",
       "      <td>positive</td>\n",
       "    </tr>\n",
       "    <tr>\n",
       "      <th>7</th>\n",
       "      <td>This show was an amazing, fresh &amp; innovative i...</td>\n",
       "      <td>negative</td>\n",
       "    </tr>\n",
       "    <tr>\n",
       "      <th>8</th>\n",
       "      <td>Encouraged by the positive comments about this...</td>\n",
       "      <td>negative</td>\n",
       "    </tr>\n",
       "    <tr>\n",
       "      <th>9</th>\n",
       "      <td>If you like original gut wrenching laughter yo...</td>\n",
       "      <td>positive</td>\n",
       "    </tr>\n",
       "  </tbody>\n",
       "</table>\n",
       "</div>"
      ],
      "text/plain": [
       "                                              review sentiment\n",
       "0  One of the other reviewers has mentioned that ...  positive\n",
       "1  A wonderful little production. <br /><br />The...  positive\n",
       "2  I thought this was a wonderful way to spend ti...  positive\n",
       "3  Basically there's a family where a little boy ...  negative\n",
       "4  Petter Mattei's \"Love in the Time of Money\" is...  positive\n",
       "5  Probably my all-time favorite movie, a story o...  positive\n",
       "6  I sure would like to see a resurrection of a u...  positive\n",
       "7  This show was an amazing, fresh & innovative i...  negative\n",
       "8  Encouraged by the positive comments about this...  negative\n",
       "9  If you like original gut wrenching laughter yo...  positive"
      ]
     },
     "execution_count": 25,
     "metadata": {},
     "output_type": "execute_result"
    }
   ],
   "source": [
    "df = pd.read_csv('../imdb_reviews.csv')\n",
    "df.head(10)"
   ]
  },
  {
   "cell_type": "markdown",
   "id": "c654b6bd",
   "metadata": {},
   "source": [
    "# Funções"
   ]
  },
  {
   "cell_type": "code",
   "execution_count": 30,
   "id": "fe307e35",
   "metadata": {},
   "outputs": [],
   "source": [
    "def map_sentiments(x):\n",
    "    if x == 'positive':\n",
    "        return 1\n",
    "    return 0\n",
    "\n",
    "def create_bag_of_words(df_train, df_val, text_col, vocab_size=500):\n",
    "    vectorizer = CountVectorizer(max_features=vocab_size)\n",
    "    \n",
    "    X_train = vectorizer.fit_transform(df_train[text_col].values)\n",
    "    X_val = vectorizer.transform(df_val[text_col].values)\n",
    "    \n",
    "    bow_train = pd.DataFrame(X_train.toarray(), columns=vectorizer.get_feature_names_out())\n",
    "    bow_val = pd.DataFrame(X_val.toarray(), columns=vectorizer.get_feature_names_out())\n",
    "    \n",
    "    bow_train['target_val'] = df_train['sentiment'].values\n",
    "    bow_val['target_val'] = df_val['sentiment'].values\n",
    "    \n",
    "    return bow_train, bow_val\n",
    "\n",
    "def cross_validation(df, model, k=5):\n",
    "    idx_list = np.arange(df.shape[0])\n",
    "    test_available_idx = np.arange(df.shape[0])\n",
    "    test_size = int((1/k) * len(idx_list))\n",
    "    acc = 0\n",
    "    \n",
    "    print(\"Accuracy per fold:\")\n",
    "    for i in range(k):\n",
    "        test_idx = np.random.choice(test_available_idx, test_size, replace=False)\n",
    "        train_idx = np.setdiff1d(idx_list, test_idx)\n",
    "        \n",
    "        df_train = df.iloc[train_idx]\n",
    "        df_test = df.iloc[test_idx]\n",
    "        \n",
    "        bow_train, bow_test = create_bag_of_words(df_train, df_test, 'review') \n",
    "        \n",
    "        X_train = bow_train.drop('target_val',axis=1)\n",
    "        y_train = bow_train['target_val'].values\n",
    "        \n",
    "        X_test = bow_test.drop('target_val', axis=1)\n",
    "        y_test = bow_test['target_val'].values\n",
    "        \n",
    "        model.fit(X_train, y_train)\n",
    "        preds = model.predict(X_test)\n",
    "        \n",
    "        test_available_idx = np.setdiff1d(test_available_idx, test_idx)\n",
    "        score = accuracy_score(y_test, preds)\n",
    "        acc += score\n",
    "        print(f\"  Fold number {i+1}: {score:.3f}\")\n",
    "        \n",
    "    print(f\"Average accuracy score is {acc/k:.3f}\")\n",
    "    \n",
    "    return model\n",
    "        "
   ]
  },
  {
   "cell_type": "code",
   "execution_count": 27,
   "id": "54c6fb26",
   "metadata": {},
   "outputs": [],
   "source": [
    "df['sentiment'] = df['sentiment'].apply(map_sentiments)"
   ]
  },
  {
   "cell_type": "code",
   "execution_count": 31,
   "id": "a594f6d0",
   "metadata": {},
   "outputs": [
    {
     "name": "stdout",
     "output_type": "stream",
     "text": [
      "Accuracy per fold:\n",
      "  Fold number 1: 0.842\n",
      "  Fold number 2: 0.845\n",
      "  Fold number 3: 0.845\n",
      "  Fold number 4: 0.847\n",
      "  Fold number 5: 0.842\n",
      "Average accuracy score is 0.844\n"
     ]
    }
   ],
   "source": [
    "model = LogisticRegression(max_iter=1000)\n",
    "cross_validation(df, model)"
   ]
  },
  {
   "cell_type": "code",
   "execution_count": null,
   "id": "baa0bd5a",
   "metadata": {},
   "outputs": [],
   "source": []
  }
 ],
 "metadata": {
  "kernelspec": {
   "display_name": "Python 3 (ipykernel)",
   "language": "python",
   "name": "python3"
  },
  "language_info": {
   "codemirror_mode": {
    "name": "ipython",
    "version": 3
   },
   "file_extension": ".py",
   "mimetype": "text/x-python",
   "name": "python",
   "nbconvert_exporter": "python",
   "pygments_lexer": "ipython3",
   "version": "3.11.5"
  }
 },
 "nbformat": 4,
 "nbformat_minor": 5
}
