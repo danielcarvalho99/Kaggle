{
 "cells": [
  {
   "cell_type": "markdown",
   "id": "de2e3f17",
   "metadata": {},
   "source": [
    "# Instalação de Bibliotecas"
   ]
  },
  {
   "cell_type": "code",
   "execution_count": 778,
   "id": "c69b1308",
   "metadata": {},
   "outputs": [],
   "source": [
    "!pip install xgboost -q xgboost"
   ]
  },
  {
   "cell_type": "code",
   "execution_count": 779,
   "id": "374849ec",
   "metadata": {},
   "outputs": [],
   "source": [
    "!pip install catboost -q catboost"
   ]
  },
  {
   "cell_type": "code",
   "execution_count": 780,
   "id": "f54e9810",
   "metadata": {},
   "outputs": [],
   "source": [
    "!pip install perpetual -q perpetual"
   ]
  },
  {
   "cell_type": "markdown",
   "id": "3949cae0",
   "metadata": {},
   "source": [
    "# Leitura dos dados"
   ]
  },
  {
   "cell_type": "code",
   "execution_count": 787,
   "id": "0324f5a4",
   "metadata": {},
   "outputs": [
    {
     "ename": "ModuleNotFoundError",
     "evalue": "No module named 'autogluon'",
     "output_type": "error",
     "traceback": [
      "\u001b[1;31m---------------------------------------------------------------------------\u001b[0m",
      "\u001b[1;31mModuleNotFoundError\u001b[0m                       Traceback (most recent call last)",
      "Cell \u001b[1;32mIn[787], line 11\u001b[0m\n\u001b[0;32m      9\u001b[0m \u001b[38;5;28;01mfrom\u001b[39;00m \u001b[38;5;21;01mcatboost\u001b[39;00m \u001b[38;5;28;01mimport\u001b[39;00m CatBoostRegressor\n\u001b[0;32m     10\u001b[0m \u001b[38;5;28;01mfrom\u001b[39;00m \u001b[38;5;21;01mperpetual\u001b[39;00m \u001b[38;5;28;01mimport\u001b[39;00m PerpetualBooster\n\u001b[1;32m---> 11\u001b[0m \u001b[38;5;28;01mfrom\u001b[39;00m \u001b[38;5;21;01mautogluon\u001b[39;00m\u001b[38;5;21;01m.\u001b[39;00m\u001b[38;5;21;01mtabular\u001b[39;00m \u001b[38;5;28;01mimport\u001b[39;00m TabularPredictor\n\u001b[0;32m     12\u001b[0m \u001b[38;5;28;01mfrom\u001b[39;00m \u001b[38;5;21;01mmath\u001b[39;00m \u001b[38;5;28;01mimport\u001b[39;00m sqrt\n\u001b[0;32m     13\u001b[0m \u001b[38;5;28;01mfrom\u001b[39;00m \u001b[38;5;21;01mstatistics\u001b[39;00m \u001b[38;5;28;01mimport\u001b[39;00m mode\n",
      "\u001b[1;31mModuleNotFoundError\u001b[0m: No module named 'autogluon'"
     ]
    }
   ],
   "source": [
    "import pandas as pd\n",
    "import numpy as np\n",
    "import matplotlib.pyplot as plt\n",
    "import seaborn as sns\n",
    "from sklearn.linear_model import LinearRegression\n",
    "from sklearn.model_selection import train_test_split\n",
    "from sklearn.metrics import mean_squared_error\n",
    "import xgboost as xg\n",
    "from catboost import CatBoostRegressor\n",
    "from perpetual import PerpetualBooster\n",
    "from math import sqrt\n",
    "from statistics import mode"
   ]
  },
  {
   "cell_type": "code",
   "execution_count": null,
   "id": "f4a65eac",
   "metadata": {},
   "outputs": [],
   "source": [
    "df = pd.read_csv('../../train.csv')\n",
    "df.head(10)"
   ]
  },
  {
   "cell_type": "code",
   "execution_count": null,
   "id": "d36a2bd7",
   "metadata": {},
   "outputs": [],
   "source": [
    "used_cols = []"
   ]
  },
  {
   "cell_type": "code",
   "execution_count": null,
   "id": "9b7608c5",
   "metadata": {},
   "outputs": [],
   "source": [
    "df_test = pd.read_csv('../../test.csv')\n",
    "df_test.head(10)"
   ]
  },
  {
   "cell_type": "markdown",
   "id": "8bc8e726",
   "metadata": {},
   "source": [
    "# Funções auxiliares"
   ]
  },
  {
   "cell_type": "markdown",
   "id": "8b077a13",
   "metadata": {},
   "source": [
    "## Genéricas"
   ]
  },
  {
   "cell_type": "code",
   "execution_count": null,
   "id": "0411a5a7",
   "metadata": {},
   "outputs": [],
   "source": [
    "def get_X_test(df, used_cols):\n",
    "    X = df[used_cols].values\n",
    "    return X\n",
    "\n",
    "def create_submission(df_test, y_pred):\n",
    "    submission_df = pd.DataFrame({'Id': df_test['Id'].values, 'SalePrice': y_pred})\n",
    "    return submission_df\n",
    "\n",
    "def filter_outliers(df):\n",
    "    df = df.query(\"`LotArea` < 100000\")\n",
    "    return df\n",
    "\n",
    "def check_nulls(cols):\n",
    "    for col in cols:\n",
    "        print(f\"Percentage of nulls in {col}:\")\n",
    "        print(f\"Train: {100*df_train[col].isna().sum()/ df_train.shape[0]:.2f}%\")\n",
    "        print(f\"Val: {100*df_val[col].isna().sum()/ df_val.shape[0]:.2f}%\")\n",
    "        print(f\"Test: {100*df_test[col].isna().sum()/ df_test.shape[0]:.2f}%\\n\")\n",
    "\n",
    "def encode_qual(x):\n",
    "    mapping = {'Ex': 5, 'Gd': 4, 'TA': 3, 'Fa': 2, 'Po':1 }\n",
    "    \n",
    "    if str(x)[0] == 'n':\n",
    "        return 3 \n",
    "    return mapping[x]\n",
    "\n",
    "def encode_finish(x):\n",
    "    mapping = {'Fin': 3, 'RFn': 2, 'Unf': 1}\n",
    "    if str.lower(str(x)[0]) == 'n':\n",
    "        return 0\n",
    "    return mapping[x]\n",
    "        \n",
    "        \n",
    "def apply_df_changes(col, func):\n",
    "    for df in df_train, df_val, df_test:\n",
    "        df[col] = df[col].apply(func)\n",
    "        \n",
    "def show_feature_importances(model):\n",
    "    feature_importances = model.feature_importances_\n",
    "    sorted_indices = np.argsort(feature_importances)[::-1]\n",
    "\n",
    "    print(\"Feature Importances:\")\n",
    "    for i in sorted_indices:\n",
    "        print(f\"{df_train[used_cols].columns[i]}: {feature_importances[i]:.4f}\")\n",
    "        "
   ]
  },
  {
   "cell_type": "markdown",
   "id": "16f66566",
   "metadata": {},
   "source": [
    "## Plots"
   ]
  },
  {
   "cell_type": "code",
   "execution_count": null,
   "id": "abd0cdec",
   "metadata": {},
   "outputs": [],
   "source": [
    "def plot_residuals(y_pred, y_test):\n",
    "    residuals = y_pred - y_test\n",
    "    \n",
    "    sns.scatterplot(x=y_test.flatten(), y=residuals.flatten())\n",
    "    plt.axhline(0, linestyle='--',color='red')\n",
    "    plt.xlabel(\"Actual House Prices\")\n",
    "    plt.ylabel(\"Residuals\")\n",
    "    plt.title(\"Residual Plot\")\n",
    "    plt.show()   \n",
    "\n",
    "def scatter(col_1, col_2):    \n",
    "    plt.figure(figsize=(7, 5))\n",
    "    plt.title(f\"{col_1} x {col_2}\")\n",
    "    sns.scatterplot(data=df_train, x=col_1, y=col_2)\n",
    "\n",
    "    plt.show()\n",
    "    \n",
    "def plot_histograms(df, columns, subplot_shape):\n",
    "    rows, cols = subplot_shape\n",
    "    fig, axes = plt.subplots(rows, cols, figsize=(5 * cols, 4 * rows))  \n",
    "    if len(columns) > 1:\n",
    "        axes = axes.flatten()\n",
    "\n",
    "    for i, col in enumerate(columns):\n",
    "        bins = len(df[col].unique())\n",
    "        if bins < 20:\n",
    "            sns.histplot(df[col], ax=axes[i], bins=bins)\n",
    "        else:\n",
    "            sns.histplot(df[col], ax=axes[i])\n",
    "        axes[i].set_title(col)\n",
    "\n",
    "    for j in range(i + 1, len(axes)):\n",
    "        fig.delaxes(axes[j])\n",
    "\n",
    "    plt.tight_layout()\n",
    "    plt.show()\n",
    "\n",
    "def plot_avg_sales_price_by_cat(df, columns, subplot_shape):\n",
    "    rows, cols = subplot_shape\n",
    "    fig, axes = plt.subplots(rows, cols, figsize=(5 * cols, 4 * rows))  \n",
    "    if len(columns) > 1:\n",
    "        axes = axes.flatten()\n",
    "    \n",
    "    default_blue = sns.color_palette()[0]\n",
    "\n",
    "    for i, col in enumerate(columns):\n",
    "        bins = len(df[col].unique())\n",
    "        sns.barplot(x=col, y='SalePrice', data=df, ax=axes[i], estimator=np.mean, errorbar=None, color=default_blue)\n",
    "        axes[i].set_title(f\"Avg Sale Price by {col}\")\n",
    "\n",
    "    for j in range(i + 1, len(axes)):\n",
    "        fig.delaxes(axes[j])\n",
    "\n",
    "    plt.tight_layout()\n",
    "    plt.show()\n",
    "    "
   ]
  },
  {
   "cell_type": "markdown",
   "id": "59d21a2f",
   "metadata": {},
   "source": [
    "# Split (Treino / Validação)"
   ]
  },
  {
   "cell_type": "code",
   "execution_count": null,
   "id": "d6f123cd",
   "metadata": {},
   "outputs": [],
   "source": [
    "df_train, df_val = train_test_split(df, test_size=0.2, random_state=42)\n",
    "\n",
    "print(f\"df_train shape: {df_train.shape}\")\n",
    "print(f\"df_val shape: {df_val.shape}\")"
   ]
  },
  {
   "cell_type": "markdown",
   "id": "c40edb13",
   "metadata": {},
   "source": [
    "# Análise Exploratória de Dados"
   ]
  },
  {
   "cell_type": "markdown",
   "id": "f2c0e04a",
   "metadata": {},
   "source": [
    "## Lot Area"
   ]
  },
  {
   "cell_type": "code",
   "execution_count": null,
   "id": "3034c615",
   "metadata": {
    "scrolled": true
   },
   "outputs": [],
   "source": [
    "scatter('LotArea', 'SalePrice')"
   ]
  },
  {
   "cell_type": "code",
   "execution_count": null,
   "id": "4d548485",
   "metadata": {},
   "outputs": [],
   "source": [
    "if 'LotArea' not in used_cols:\n",
    "    used_cols.append('LotArea')"
   ]
  },
  {
   "cell_type": "markdown",
   "id": "0e1373b5",
   "metadata": {},
   "source": [
    "## Overall Quality and Condition"
   ]
  },
  {
   "cell_type": "code",
   "execution_count": null,
   "id": "d9730b36",
   "metadata": {},
   "outputs": [],
   "source": [
    "overall_cols = ['OverallQual', 'OverallCond']"
   ]
  },
  {
   "cell_type": "code",
   "execution_count": null,
   "id": "707bc0ea",
   "metadata": {},
   "outputs": [],
   "source": [
    "plot_histograms(df_train, overall_cols, (1,2))"
   ]
  },
  {
   "cell_type": "code",
   "execution_count": null,
   "id": "1594abd8",
   "metadata": {},
   "outputs": [],
   "source": [
    "plot_avg_sales_price_by_cat(df_train, overall_cols, (1,2))"
   ]
  },
  {
   "cell_type": "code",
   "execution_count": null,
   "id": "15e98ac6",
   "metadata": {},
   "outputs": [],
   "source": [
    "for col in overall_cols:\n",
    "    if col not in used_cols:\n",
    "        used_cols.append(col)"
   ]
  },
  {
   "cell_type": "markdown",
   "id": "8638907a",
   "metadata": {},
   "source": [
    "# PoolQC, PoolArea e Fence"
   ]
  },
  {
   "cell_type": "code",
   "execution_count": null,
   "id": "955a9625",
   "metadata": {},
   "outputs": [],
   "source": [
    "new_cols = ['PoolArea', 'PoolQC', 'Fence']\n",
    "check_nulls(new_cols)"
   ]
  },
  {
   "cell_type": "code",
   "execution_count": null,
   "id": "a5b78227",
   "metadata": {},
   "outputs": [],
   "source": [
    "pool_cols = ['PoolArea', 'PoolQC']\n",
    "plot_histograms(df_train, pool_cols, (1,2))"
   ]
  },
  {
   "cell_type": "code",
   "execution_count": null,
   "id": "7a432f6c",
   "metadata": {},
   "outputs": [],
   "source": [
    "df_train.query(\"`PoolArea` > 0\").shape[0]"
   ]
  },
  {
   "cell_type": "markdown",
   "id": "ce2c780c",
   "metadata": {},
   "source": [
    "# Kitchen"
   ]
  },
  {
   "cell_type": "code",
   "execution_count": null,
   "id": "13a1ef2a",
   "metadata": {},
   "outputs": [],
   "source": [
    "kitchen_cols =  ['KitchenAbvGr','KitchenQual']\n",
    "check_nulls(kitchen_cols)"
   ]
  },
  {
   "cell_type": "code",
   "execution_count": null,
   "id": "b399b134",
   "metadata": {},
   "outputs": [],
   "source": [
    "plot_histograms(df_train, kitchen_cols, (1,2))"
   ]
  },
  {
   "cell_type": "code",
   "execution_count": null,
   "id": "297fcd39",
   "metadata": {},
   "outputs": [],
   "source": [
    "kitchen_cols = ['KitchenAbvGr', 'KitchenQual']\n",
    "for col in kitchen_cols:\n",
    "    if col not in used_cols:\n",
    "        used_cols.append(col)"
   ]
  },
  {
   "cell_type": "code",
   "execution_count": null,
   "id": "a57e3e8f",
   "metadata": {},
   "outputs": [],
   "source": [
    "apply_df_changes('KitchenQual', encode_qual)"
   ]
  },
  {
   "cell_type": "code",
   "execution_count": null,
   "id": "9721beb0",
   "metadata": {},
   "outputs": [],
   "source": [
    "df_train[used_cols].head(10)"
   ]
  },
  {
   "cell_type": "markdown",
   "id": "eaf28715",
   "metadata": {},
   "source": [
    "## BedroomAbvGr e TotRmsAbvGrd"
   ]
  },
  {
   "cell_type": "code",
   "execution_count": null,
   "id": "f9fb2b1f",
   "metadata": {},
   "outputs": [],
   "source": [
    "room_cols = ['BedroomAbvGr', 'TotRmsAbvGrd']\n",
    "check_nulls(room_cols)"
   ]
  },
  {
   "cell_type": "code",
   "execution_count": null,
   "id": "47652932",
   "metadata": {
    "scrolled": false
   },
   "outputs": [],
   "source": [
    "plot_histograms(df_train, room_cols, (1,2))"
   ]
  },
  {
   "cell_type": "code",
   "execution_count": null,
   "id": "336baccb",
   "metadata": {},
   "outputs": [],
   "source": [
    "plot_avg_sales_price_by_cat(df_train, room_cols, (1,2))"
   ]
  },
  {
   "cell_type": "code",
   "execution_count": null,
   "id": "818bac14",
   "metadata": {},
   "outputs": [],
   "source": [
    "for df in df_train, df_val, df_test:\n",
    "    df['OtherRoomsAbvGrd'] = df['TotRmsAbvGrd'] - df['BedroomAbvGr']"
   ]
  },
  {
   "cell_type": "code",
   "execution_count": null,
   "id": "a9347a1d",
   "metadata": {},
   "outputs": [],
   "source": [
    "used_cols.append('BedroomAbvGr')"
   ]
  },
  {
   "cell_type": "markdown",
   "id": "4a50a0d1",
   "metadata": {},
   "source": [
    "# GrLivArea, LowQualFinSF, 1stFlrSF e 2ndFlrSF"
   ]
  },
  {
   "cell_type": "code",
   "execution_count": null,
   "id": "d234bbf8",
   "metadata": {
    "scrolled": true
   },
   "outputs": [],
   "source": [
    "area_cols = ['GrLivArea', 'LowQualFinSF', '1stFlrSF', '2ndFlrSF']\n",
    "check_nulls(area_cols)"
   ]
  },
  {
   "cell_type": "code",
   "execution_count": null,
   "id": "323e4754",
   "metadata": {},
   "outputs": [],
   "source": [
    "plot_histograms(df_train, area_cols, (2, 2))"
   ]
  },
  {
   "cell_type": "code",
   "execution_count": null,
   "id": "d95552c7",
   "metadata": {
    "scrolled": true
   },
   "outputs": [],
   "source": [
    "plot_avg_sales_price_by_cat(df_train, area_cols, (2,2))"
   ]
  },
  {
   "cell_type": "code",
   "execution_count": null,
   "id": "c84bc1ce",
   "metadata": {},
   "outputs": [],
   "source": [
    "area_used_cols = ['1stFlrSF', '2ndFlrSF']\n",
    "\n",
    "for col in area_used_cols:\n",
    "    if col not in used_cols:\n",
    "        used_cols.append(col)"
   ]
  },
  {
   "cell_type": "code",
   "execution_count": null,
   "id": "e17bb0c5",
   "metadata": {},
   "outputs": [],
   "source": [
    "df_train[used_cols].head(10)"
   ]
  },
  {
   "cell_type": "markdown",
   "id": "3bf6ecf7",
   "metadata": {},
   "source": [
    "## BsmtFullBath, BsmtHalfBath, HalfBath e FullBath"
   ]
  },
  {
   "cell_type": "code",
   "execution_count": null,
   "id": "5fde140a",
   "metadata": {
    "scrolled": true
   },
   "outputs": [],
   "source": [
    "bath_cols = ['BsmtFullBath', 'BsmtHalfBath', 'HalfBath', 'FullBath']"
   ]
  },
  {
   "cell_type": "code",
   "execution_count": null,
   "id": "1cadeda6",
   "metadata": {},
   "outputs": [],
   "source": [
    "check_nulls(bath_cols)"
   ]
  },
  {
   "cell_type": "code",
   "execution_count": null,
   "id": "65795153",
   "metadata": {},
   "outputs": [],
   "source": [
    "plot_histograms(df_train, bath_cols,(2,2))"
   ]
  },
  {
   "cell_type": "code",
   "execution_count": null,
   "id": "4778921e",
   "metadata": {},
   "outputs": [],
   "source": [
    "plot_avg_sales_price_by_cat(df_train, bath_cols,(2,2))"
   ]
  },
  {
   "cell_type": "code",
   "execution_count": null,
   "id": "6819dcbd",
   "metadata": {},
   "outputs": [],
   "source": [
    "for col in ['HalfBath', 'FullBath', 'BsmtFullBath']:\n",
    "    used_cols.append(col)"
   ]
  },
  {
   "cell_type": "markdown",
   "id": "c740fe23",
   "metadata": {},
   "source": [
    "## Fireplaces e FireplaceQu"
   ]
  },
  {
   "cell_type": "code",
   "execution_count": null,
   "id": "9bebea3c",
   "metadata": {
    "scrolled": true
   },
   "outputs": [],
   "source": [
    "fireplace_cols = ['Fireplaces', 'FireplaceQu']"
   ]
  },
  {
   "cell_type": "code",
   "execution_count": null,
   "id": "af13a040",
   "metadata": {},
   "outputs": [],
   "source": [
    "check_nulls(fireplace_cols)"
   ]
  },
  {
   "cell_type": "code",
   "execution_count": null,
   "id": "1a9c5a34",
   "metadata": {},
   "outputs": [],
   "source": [
    "plot_histograms(df_train, fireplace_cols,(1,2))"
   ]
  },
  {
   "cell_type": "code",
   "execution_count": null,
   "id": "fa88171c",
   "metadata": {},
   "outputs": [],
   "source": [
    "plot_avg_sales_price_by_cat(df_train, fireplace_cols,(1,2))"
   ]
  },
  {
   "cell_type": "code",
   "execution_count": null,
   "id": "93a3d5f3",
   "metadata": {},
   "outputs": [],
   "source": [
    "used_cols.append('Fireplaces')"
   ]
  },
  {
   "cell_type": "markdown",
   "id": "4b50f8ef",
   "metadata": {},
   "source": [
    "## YrSold e MoSold"
   ]
  },
  {
   "cell_type": "code",
   "execution_count": null,
   "id": "7e034130",
   "metadata": {},
   "outputs": [],
   "source": [
    "sold_cols = ['YrSold', 'MoSold']"
   ]
  },
  {
   "cell_type": "code",
   "execution_count": null,
   "id": "08f5f8df",
   "metadata": {},
   "outputs": [],
   "source": [
    "check_nulls(sold_cols)"
   ]
  },
  {
   "cell_type": "code",
   "execution_count": null,
   "id": "c1fac107",
   "metadata": {},
   "outputs": [],
   "source": [
    "plot_histograms(df_train, sold_cols,(1,2))"
   ]
  },
  {
   "cell_type": "code",
   "execution_count": null,
   "id": "5064e49a",
   "metadata": {},
   "outputs": [],
   "source": [
    "plot_avg_sales_price_by_cat(df_train, sold_cols,(1,2))"
   ]
  },
  {
   "cell_type": "markdown",
   "id": "63bf18e8",
   "metadata": {},
   "source": [
    "## MiscFeature e MiscVal"
   ]
  },
  {
   "cell_type": "code",
   "execution_count": null,
   "id": "6d890a4b",
   "metadata": {},
   "outputs": [],
   "source": [
    "misc_cols = ['MiscFeature', 'MiscVal']\n",
    "check_nulls(misc_cols)"
   ]
  },
  {
   "cell_type": "code",
   "execution_count": null,
   "id": "24f310a7",
   "metadata": {},
   "outputs": [],
   "source": [
    "plot_histograms(df_train, misc_cols,(1,2))"
   ]
  },
  {
   "cell_type": "markdown",
   "id": "e7566928",
   "metadata": {},
   "source": [
    "## Garage"
   ]
  },
  {
   "cell_type": "code",
   "execution_count": null,
   "id": "602c1065",
   "metadata": {},
   "outputs": [],
   "source": [
    "garage_cols = ['GarageCars','GarageArea','GarageQual','GarageCond', 'GarageFinish', 'GarageYrBlt']\n",
    "check_nulls(garage_cols)"
   ]
  },
  {
   "cell_type": "code",
   "execution_count": null,
   "id": "02b9db4e",
   "metadata": {},
   "outputs": [],
   "source": [
    "plot_histograms(df_train, garage_cols, (2,3))"
   ]
  },
  {
   "cell_type": "code",
   "execution_count": null,
   "id": "e54ceffc",
   "metadata": {},
   "outputs": [],
   "source": [
    "plot_avg_sales_price_by_cat(df_train, garage_cols, (2,3))"
   ]
  },
  {
   "cell_type": "code",
   "execution_count": null,
   "id": "c6e4067d",
   "metadata": {},
   "outputs": [],
   "source": [
    "np.corrcoef(df_train['GarageCars'], df_train['GarageArea'])"
   ]
  },
  {
   "cell_type": "code",
   "execution_count": null,
   "id": "9051b9b1",
   "metadata": {},
   "outputs": [],
   "source": [
    "df_test['GarageCars'].fillna(2, inplace=True)"
   ]
  },
  {
   "cell_type": "code",
   "execution_count": null,
   "id": "02a4f670",
   "metadata": {},
   "outputs": [],
   "source": [
    "used_cols.append('GarageCars')"
   ]
  },
  {
   "cell_type": "markdown",
   "id": "f7b4aa1e",
   "metadata": {},
   "source": [
    "## CentralAir, Electrical and Heating"
   ]
  },
  {
   "cell_type": "code",
   "execution_count": null,
   "id": "2e543d0a",
   "metadata": {},
   "outputs": [],
   "source": [
    "infra_cols = ['CentralAir', 'Electrical', 'Heating', 'HeatingQC']\n",
    "check_nulls(infra_cols)"
   ]
  },
  {
   "cell_type": "code",
   "execution_count": null,
   "id": "2aeddd88",
   "metadata": {},
   "outputs": [],
   "source": [
    "plot_histograms(df_train, infra_cols, (2,2))"
   ]
  },
  {
   "cell_type": "code",
   "execution_count": null,
   "id": "c8b7a86b",
   "metadata": {},
   "outputs": [],
   "source": [
    "plot_avg_sales_price_by_cat(df_train, infra_cols, (2,2))"
   ]
  },
  {
   "cell_type": "code",
   "execution_count": null,
   "id": "d56a08d3",
   "metadata": {},
   "outputs": [],
   "source": [
    "used_cols.append('HeatingQC')"
   ]
  },
  {
   "cell_type": "code",
   "execution_count": null,
   "id": "b70b931b",
   "metadata": {},
   "outputs": [],
   "source": [
    "apply_df_changes('HeatingQC', encode_qual)"
   ]
  },
  {
   "cell_type": "markdown",
   "id": "47709258",
   "metadata": {},
   "source": [
    "## Masonry"
   ]
  },
  {
   "cell_type": "code",
   "execution_count": null,
   "id": "b5463945",
   "metadata": {},
   "outputs": [],
   "source": [
    "masonry_cols = ['MasVnrArea','MasVnrType']\n",
    "check_nulls(masonry_cols)"
   ]
  },
  {
   "cell_type": "code",
   "execution_count": null,
   "id": "b5228c95",
   "metadata": {},
   "outputs": [],
   "source": [
    "plot_histograms(df_train, masonry_cols, (1,2))"
   ]
  },
  {
   "cell_type": "markdown",
   "id": "f2ac774d",
   "metadata": {},
   "source": [
    "## Lot"
   ]
  },
  {
   "cell_type": "code",
   "execution_count": null,
   "id": "f7e04a98",
   "metadata": {},
   "outputs": [],
   "source": [
    "lot_cols = ['LotFrontage', 'LotShape']\n",
    "check_nulls(lot_cols)"
   ]
  },
  {
   "cell_type": "code",
   "execution_count": null,
   "id": "515f2925",
   "metadata": {},
   "outputs": [],
   "source": [
    "plot_histograms(df_train, lot_cols, (1,2))"
   ]
  },
  {
   "cell_type": "code",
   "execution_count": null,
   "id": "75838bdf",
   "metadata": {},
   "outputs": [],
   "source": [
    "plot_avg_sales_price_by_cat(df_train, lot_cols, (1,2))"
   ]
  },
  {
   "cell_type": "code",
   "execution_count": null,
   "id": "0eb658d2",
   "metadata": {},
   "outputs": [],
   "source": [
    "lot_ft_mean = np.mean(df_train['LotFrontage'])\n",
    "for df in [df_train, df_val, df_test]:\n",
    "    df['LotFrontage'].fillna(lot_ft_mean,inplace=True)"
   ]
  },
  {
   "cell_type": "code",
   "execution_count": null,
   "id": "b39a957e",
   "metadata": {},
   "outputs": [],
   "source": [
    "def encode_shape(x):\n",
    "    if x == 'Reg':\n",
    "        return 1\n",
    "    return 0\n",
    "\n",
    "apply_df_changes('LotShape', encode_shape)"
   ]
  },
  {
   "cell_type": "code",
   "execution_count": null,
   "id": "2dd697be",
   "metadata": {},
   "outputs": [],
   "source": [
    "used_cols.append('LotFrontage')\n",
    "used_cols.append('LotShape')"
   ]
  },
  {
   "cell_type": "markdown",
   "id": "44908972",
   "metadata": {},
   "source": [
    "## Street e Alley"
   ]
  },
  {
   "cell_type": "code",
   "execution_count": null,
   "id": "20d4ae65",
   "metadata": {},
   "outputs": [],
   "source": [
    "street_cols = ['Street', 'Alley']\n",
    "check_nulls(street_cols)"
   ]
  },
  {
   "cell_type": "code",
   "execution_count": null,
   "id": "6a4232a7",
   "metadata": {},
   "outputs": [],
   "source": [
    "plot_histograms(df_train, street_cols, (1,2))"
   ]
  },
  {
   "cell_type": "markdown",
   "id": "814813bd",
   "metadata": {},
   "source": [
    "## YearBuilt e YearRemodAdd"
   ]
  },
  {
   "cell_type": "code",
   "execution_count": null,
   "id": "25ddfe76",
   "metadata": {},
   "outputs": [],
   "source": [
    "yr_cols = ['YearBuilt', 'YearRemodAdd']\n",
    "check_nulls(yr_cols)"
   ]
  },
  {
   "cell_type": "code",
   "execution_count": null,
   "id": "0bee9dd6",
   "metadata": {},
   "outputs": [],
   "source": [
    "plot_histograms(df_train, yr_cols, (1,2))"
   ]
  },
  {
   "cell_type": "code",
   "execution_count": null,
   "id": "b136c6b8",
   "metadata": {},
   "outputs": [],
   "source": [
    "plot_avg_sales_price_by_cat(df_train, yr_cols, (1,2))"
   ]
  },
  {
   "cell_type": "code",
   "execution_count": null,
   "id": "3d5a36ae",
   "metadata": {},
   "outputs": [],
   "source": [
    "np.corrcoef(df_train['SalePrice'], df_train['YearRemodAdd'])"
   ]
  },
  {
   "cell_type": "code",
   "execution_count": null,
   "id": "d005744e",
   "metadata": {},
   "outputs": [],
   "source": [
    "np.corrcoef(df_train['SalePrice'], df_train['YearBuilt'])"
   ]
  },
  {
   "cell_type": "code",
   "execution_count": null,
   "id": "7f03e4fd",
   "metadata": {},
   "outputs": [],
   "source": [
    "np.corrcoef(df_train['YearRemodAdd'], df_train['YearBuilt'])"
   ]
  },
  {
   "cell_type": "code",
   "execution_count": null,
   "id": "75452bc6",
   "metadata": {},
   "outputs": [],
   "source": [
    "used_cols.append('YearBuilt')"
   ]
  },
  {
   "cell_type": "markdown",
   "id": "530bc243",
   "metadata": {},
   "source": [
    "## Neighborhood"
   ]
  },
  {
   "cell_type": "code",
   "execution_count": null,
   "id": "43c35df5",
   "metadata": {},
   "outputs": [],
   "source": [
    "check_nulls(['Neighborhood'])"
   ]
  },
  {
   "cell_type": "code",
   "execution_count": null,
   "id": "905a74ff",
   "metadata": {},
   "outputs": [],
   "source": [
    "df_train['CostPerArea'] = df_train['SalePrice'] / df_train['GrLivArea']\n",
    "df_train['AvgCostPerArea'] = df_train.groupby('Neighborhood')['CostPerArea'].transform('mean')\n",
    "df_val['CostPerArea'] = df_val['SalePrice'] / df_val['GrLivArea']\n",
    "df_val['AvgCostPerArea'] = df_val.groupby('Neighborhood')['CostPerArea'].transform('mean')"
   ]
  },
  {
   "cell_type": "code",
   "execution_count": null,
   "id": "04b9c89b",
   "metadata": {},
   "outputs": [],
   "source": [
    "neigh_cols = ['CostPerArea', 'AvgCostPerArea']"
   ]
  },
  {
   "cell_type": "code",
   "execution_count": null,
   "id": "7b51e67a",
   "metadata": {},
   "outputs": [],
   "source": [
    "used_cols.append('AvgCostPerArea')"
   ]
  },
  {
   "cell_type": "code",
   "execution_count": null,
   "id": "168516c4",
   "metadata": {},
   "outputs": [],
   "source": [
    "train_avg_cost_per_area = df_train.groupby('Neighborhood')['CostPerArea'].mean()\n",
    "df_test['AvgCostPerArea'] = df_test['Neighborhood'].map(train_avg_cost_per_area)"
   ]
  },
  {
   "cell_type": "markdown",
   "id": "7b64c097",
   "metadata": {},
   "source": [
    "## Roof"
   ]
  },
  {
   "cell_type": "code",
   "execution_count": null,
   "id": "2731d0a1",
   "metadata": {},
   "outputs": [],
   "source": [
    "roof_cols = ['RoofStyle', 'RoofMatl']"
   ]
  },
  {
   "cell_type": "code",
   "execution_count": null,
   "id": "176efa31",
   "metadata": {},
   "outputs": [],
   "source": [
    "check_nulls(roof_cols)"
   ]
  },
  {
   "cell_type": "code",
   "execution_count": null,
   "id": "2fe0ed29",
   "metadata": {},
   "outputs": [],
   "source": [
    "plot_histograms(df_train, roof_cols, (1,2))"
   ]
  },
  {
   "cell_type": "code",
   "execution_count": null,
   "id": "b10011c8",
   "metadata": {},
   "outputs": [],
   "source": [
    "plot_avg_sales_price_by_cat(df_train, roof_cols, (1,2))"
   ]
  },
  {
   "cell_type": "code",
   "execution_count": null,
   "id": "227b86b0",
   "metadata": {},
   "outputs": [],
   "source": [
    "def map_roof(x):\n",
    "    if x == 'Gable':\n",
    "        return 1\n",
    "    return 0\n",
    "\n",
    "apply_df_changes('RoofStyle', map_roof)"
   ]
  },
  {
   "cell_type": "code",
   "execution_count": null,
   "id": "0829c7ec",
   "metadata": {},
   "outputs": [],
   "source": [
    "used_cols.append('RoofStyle')"
   ]
  },
  {
   "cell_type": "markdown",
   "id": "43f0f411",
   "metadata": {},
   "source": [
    "# Porch"
   ]
  },
  {
   "cell_type": "code",
   "execution_count": null,
   "id": "b0d7afeb",
   "metadata": {},
   "outputs": [],
   "source": [
    "porch_cols = ['WoodDeckSF','OpenPorchSF','EnclosedPorch','3SsnPorch','ScreenPorch']\n",
    "check_nulls(porch_cols)"
   ]
  },
  {
   "cell_type": "code",
   "execution_count": null,
   "id": "2a635db2",
   "metadata": {},
   "outputs": [],
   "source": [
    "plot_histograms(df_train, porch_cols, (2,3))"
   ]
  },
  {
   "cell_type": "code",
   "execution_count": null,
   "id": "8df92849",
   "metadata": {},
   "outputs": [],
   "source": [
    "plot_avg_sales_price_by_cat(df_train, porch_cols, (2,3))"
   ]
  },
  {
   "cell_type": "markdown",
   "id": "90c2a242",
   "metadata": {},
   "source": [
    "## Sales"
   ]
  },
  {
   "cell_type": "code",
   "execution_count": null,
   "id": "2d422181",
   "metadata": {},
   "outputs": [],
   "source": [
    "sales_cols = ['SaleType','SaleCondition']\n",
    "check_nulls(sales_cols)"
   ]
  },
  {
   "cell_type": "code",
   "execution_count": null,
   "id": "2d15e259",
   "metadata": {},
   "outputs": [],
   "source": [
    "plot_histograms(df_train, sales_cols, (2,3))"
   ]
  },
  {
   "cell_type": "code",
   "execution_count": null,
   "id": "a241ff59",
   "metadata": {},
   "outputs": [],
   "source": [
    "plot_avg_sales_price_by_cat(df_train, sales_cols, (1,2))"
   ]
  },
  {
   "cell_type": "code",
   "execution_count": null,
   "id": "3cde3fa9",
   "metadata": {},
   "outputs": [],
   "source": [
    "for df in [df_train, df_val, df_test]:\n",
    "    for col in ['Normal', 'Abnorml','Partial']:\n",
    "        df[col] = (df['SaleCondition'] == col)"
   ]
  },
  {
   "cell_type": "code",
   "execution_count": null,
   "id": "5bd28bea",
   "metadata": {},
   "outputs": [],
   "source": [
    "used_cols.append('Normal')\n",
    "used_cols.append('Partial')"
   ]
  },
  {
   "cell_type": "markdown",
   "id": "474017a5",
   "metadata": {},
   "source": [
    "## Basement"
   ]
  },
  {
   "cell_type": "code",
   "execution_count": null,
   "id": "0da106c8",
   "metadata": {},
   "outputs": [],
   "source": [
    "bsmt_cols = ['BsmtQual','BsmtCond','BsmtExposure', 'BsmtFinType1', 'BsmtFinType2','BsmtFinSF1', 'BsmtFinSF2', 'TotalBsmtSF', 'BsmtUnfSF']\n",
    "check_nulls(bsmt_cols)"
   ]
  },
  {
   "cell_type": "code",
   "execution_count": null,
   "id": "a52e5078",
   "metadata": {},
   "outputs": [],
   "source": [
    "plot_histograms(df_train, bsmt_cols, (3,3))"
   ]
  },
  {
   "cell_type": "code",
   "execution_count": null,
   "id": "1be5ef25",
   "metadata": {
    "scrolled": true
   },
   "outputs": [],
   "source": [
    "plot_avg_sales_price_by_cat(df_train, bsmt_cols, (3,3))"
   ]
  },
  {
   "cell_type": "code",
   "execution_count": null,
   "id": "7f060711",
   "metadata": {},
   "outputs": [],
   "source": [
    "apply_df_changes('BsmtQual', encode_qual)"
   ]
  },
  {
   "cell_type": "code",
   "execution_count": null,
   "id": "41659f53",
   "metadata": {},
   "outputs": [],
   "source": [
    "used_cols.append('BsmtQual')"
   ]
  },
  {
   "cell_type": "code",
   "execution_count": null,
   "id": "14e3b8d4",
   "metadata": {},
   "outputs": [],
   "source": [
    "set(df_train['BsmtExposure'].values)"
   ]
  },
  {
   "cell_type": "code",
   "execution_count": null,
   "id": "f5eb042c",
   "metadata": {},
   "outputs": [],
   "source": [
    "def encode_exposure(x):\n",
    "    mapping = {'Gd': 4, 'Av': 3, 'Mn': 2,'No': 1}\n",
    "    if str(x) == 'nan':\n",
    "        return 0\n",
    "    return mapping[x]\n",
    "\n",
    "apply_df_changes('BsmtExposure', encode_exposure)"
   ]
  },
  {
   "cell_type": "code",
   "execution_count": null,
   "id": "b6c11184",
   "metadata": {},
   "outputs": [],
   "source": [
    "used_cols.append('BsmtExposure')"
   ]
  },
  {
   "cell_type": "code",
   "execution_count": null,
   "id": "117b7850",
   "metadata": {},
   "outputs": [],
   "source": [
    "used_cols.append('TotalBsmtSF')"
   ]
  },
  {
   "cell_type": "markdown",
   "id": "90064739",
   "metadata": {},
   "source": [
    "## MSZoning e MSSubClass"
   ]
  },
  {
   "cell_type": "code",
   "execution_count": null,
   "id": "f43d7e0b",
   "metadata": {},
   "outputs": [],
   "source": [
    "ms_cols = ['MSZoning', 'MSSubClass']\n",
    "check_nulls(ms_cols)"
   ]
  },
  {
   "cell_type": "code",
   "execution_count": null,
   "id": "5d6087cb",
   "metadata": {},
   "outputs": [],
   "source": [
    "plot_histograms(df_train, ms_cols, (1,2))"
   ]
  },
  {
   "cell_type": "code",
   "execution_count": null,
   "id": "1a2d6a7a",
   "metadata": {},
   "outputs": [],
   "source": [
    "plot_avg_sales_price_by_cat(df_train, ms_cols, (2,3))"
   ]
  },
  {
   "cell_type": "markdown",
   "id": "1972f5a4",
   "metadata": {},
   "source": [
    "## Land, Lot e Utilites"
   ]
  },
  {
   "cell_type": "code",
   "execution_count": null,
   "id": "2e00d93f",
   "metadata": {},
   "outputs": [],
   "source": [
    "new_cols = ['LandContour', 'Utilities', 'LotConfig', 'LandSlope']\n",
    "check_nulls(new_cols)"
   ]
  },
  {
   "cell_type": "code",
   "execution_count": null,
   "id": "1fe7aad6",
   "metadata": {},
   "outputs": [],
   "source": [
    "plot_histograms(df_train, new_cols, (2,2))"
   ]
  },
  {
   "cell_type": "code",
   "execution_count": null,
   "id": "c06c02a6",
   "metadata": {},
   "outputs": [],
   "source": [
    "plot_avg_sales_price_by_cat(df_train, new_cols, (2,2))"
   ]
  },
  {
   "cell_type": "markdown",
   "id": "f0e6d6ca",
   "metadata": {},
   "source": [
    "## Conditions e Dwelling"
   ]
  },
  {
   "cell_type": "code",
   "execution_count": null,
   "id": "9ad60b94",
   "metadata": {},
   "outputs": [],
   "source": [
    "cond_cols = ['Condition1', 'Condition2', 'BldgType', 'HouseStyle']\n",
    "check_nulls(cond_cols)"
   ]
  },
  {
   "cell_type": "code",
   "execution_count": null,
   "id": "b5fd0a14",
   "metadata": {},
   "outputs": [],
   "source": [
    "plot_histograms(df_train, cond_cols, (2,2))"
   ]
  },
  {
   "cell_type": "code",
   "execution_count": null,
   "id": "2478f5bf",
   "metadata": {},
   "outputs": [],
   "source": [
    "plot_avg_sales_price_by_cat(df_train, cond_cols, (2,2))"
   ]
  },
  {
   "cell_type": "code",
   "execution_count": null,
   "id": "7e0cee57",
   "metadata": {},
   "outputs": [],
   "source": [
    "for df in [df_train, df_val, df_test]:\n",
    "    for col in ['1Story','2Story', '1.5Fin']:\n",
    "        df[col] = (df['HouseStyle'] == col)"
   ]
  },
  {
   "cell_type": "markdown",
   "id": "a8a700aa",
   "metadata": {},
   "source": [
    "## Exterior"
   ]
  },
  {
   "cell_type": "code",
   "execution_count": null,
   "id": "0e2ec0f8",
   "metadata": {},
   "outputs": [],
   "source": [
    "ext_cols = ['Exterior1st', 'Exterior2nd']\n",
    "check_nulls(ext_cols)"
   ]
  },
  {
   "cell_type": "code",
   "execution_count": null,
   "id": "105b1562",
   "metadata": {},
   "outputs": [],
   "source": [
    "plt.figure(figsize=(14,5))\n",
    "sns.histplot(df_train['Exterior1st'])\n",
    "plt.tight_layout()\n",
    "plt.show()"
   ]
  },
  {
   "cell_type": "code",
   "execution_count": null,
   "id": "016e14f6",
   "metadata": {},
   "outputs": [],
   "source": [
    "plt.figure(figsize=(14,5))\n",
    "default_blue = sns.color_palette()[0]\n",
    "sns.barplot(x='Exterior1st', y='SalePrice', data=df_train, estimator=np.mean, errorbar=None, color=default_blue)\n",
    "plt.show()"
   ]
  },
  {
   "cell_type": "code",
   "execution_count": null,
   "id": "e6c696f0",
   "metadata": {},
   "outputs": [],
   "source": [
    "plt.figure(figsize=(14,5))\n",
    "sns.histplot(df_train['Exterior2nd'])\n",
    "plt.tight_layout()\n",
    "plt.show()"
   ]
  },
  {
   "cell_type": "code",
   "execution_count": null,
   "id": "08ba7631",
   "metadata": {},
   "outputs": [],
   "source": [
    "plt.figure(figsize=(14,5))\n",
    "default_blue = sns.color_palette()[0]\n",
    "sns.barplot(x='Exterior2nd', y='SalePrice', data=df_train, estimator=np.mean, errorbar=None, color=default_blue)\n",
    "plt.show()"
   ]
  },
  {
   "cell_type": "code",
   "execution_count": null,
   "id": "412bc270",
   "metadata": {},
   "outputs": [],
   "source": [
    "for df in [df_train, df_val, df_test]:\n",
    "    df['VinylSd'] = (df['Exterior1st'] == 'VinylSd')\n",
    "    df['MetalOrWd'] = (df['Exterior1st'] == 'MetalSd') | (df['Exterior1st'] == 'Wd Sdng')"
   ]
  },
  {
   "cell_type": "markdown",
   "id": "754d20c2",
   "metadata": {},
   "source": [
    "## Exter"
   ]
  },
  {
   "cell_type": "code",
   "execution_count": null,
   "id": "16b4ee39",
   "metadata": {},
   "outputs": [],
   "source": [
    "ext_cols = ['ExterQual', 'ExterCond']\n",
    "check_nulls(ext_cols)"
   ]
  },
  {
   "cell_type": "code",
   "execution_count": null,
   "id": "7db273e9",
   "metadata": {},
   "outputs": [],
   "source": [
    "plot_histograms(df_train, ext_cols, (1,2))"
   ]
  },
  {
   "cell_type": "code",
   "execution_count": null,
   "id": "7dc0f6ea",
   "metadata": {},
   "outputs": [],
   "source": [
    "plot_avg_sales_price_by_cat(df_train, ext_cols, (1,2))"
   ]
  },
  {
   "cell_type": "code",
   "execution_count": null,
   "id": "5b43da1a",
   "metadata": {},
   "outputs": [],
   "source": [
    "apply_df_changes('ExterQual', encode_qual)\n",
    "apply_df_changes('ExterCond', encode_qual)"
   ]
  },
  {
   "cell_type": "markdown",
   "id": "4f6c64ce",
   "metadata": {},
   "source": [
    "## SalePrice"
   ]
  },
  {
   "cell_type": "code",
   "execution_count": null,
   "id": "765c888d",
   "metadata": {},
   "outputs": [],
   "source": [
    "plot_histograms(df_train, ['SalePrice'], (1,2))"
   ]
  },
  {
   "cell_type": "markdown",
   "id": "9cc42ab2",
   "metadata": {},
   "source": [
    "# Outliers"
   ]
  },
  {
   "cell_type": "code",
   "execution_count": null,
   "id": "97b915af",
   "metadata": {},
   "outputs": [],
   "source": [
    "df_train = filter_outliers(df_train)"
   ]
  },
  {
   "cell_type": "markdown",
   "id": "2219a272",
   "metadata": {},
   "source": [
    "# Treino"
   ]
  },
  {
   "cell_type": "code",
   "execution_count": null,
   "id": "3e56fbc0",
   "metadata": {
    "scrolled": true
   },
   "outputs": [],
   "source": [
    "df_train[used_cols].isna().sum()"
   ]
  },
  {
   "cell_type": "code",
   "execution_count": 764,
   "id": "9d102199",
   "metadata": {},
   "outputs": [
    {
     "data": {
      "text/html": [
       "<div>\n",
       "<style scoped>\n",
       "    .dataframe tbody tr th:only-of-type {\n",
       "        vertical-align: middle;\n",
       "    }\n",
       "\n",
       "    .dataframe tbody tr th {\n",
       "        vertical-align: top;\n",
       "    }\n",
       "\n",
       "    .dataframe thead th {\n",
       "        text-align: right;\n",
       "    }\n",
       "</style>\n",
       "<table border=\"1\" class=\"dataframe\">\n",
       "  <thead>\n",
       "    <tr style=\"text-align: right;\">\n",
       "      <th></th>\n",
       "      <th>LotArea</th>\n",
       "      <th>OverallQual</th>\n",
       "      <th>OverallCond</th>\n",
       "      <th>KitchenAbvGr</th>\n",
       "      <th>KitchenQual</th>\n",
       "      <th>BedroomAbvGr</th>\n",
       "      <th>1stFlrSF</th>\n",
       "      <th>2ndFlrSF</th>\n",
       "      <th>HalfBath</th>\n",
       "      <th>FullBath</th>\n",
       "      <th>...</th>\n",
       "      <th>LotFrontage</th>\n",
       "      <th>LotShape</th>\n",
       "      <th>YearBuilt</th>\n",
       "      <th>AvgCostPerArea</th>\n",
       "      <th>RoofStyle</th>\n",
       "      <th>Normal</th>\n",
       "      <th>Partial</th>\n",
       "      <th>BsmtQual</th>\n",
       "      <th>BsmtExposure</th>\n",
       "      <th>TotalBsmtSF</th>\n",
       "    </tr>\n",
       "  </thead>\n",
       "  <tbody>\n",
       "    <tr>\n",
       "      <th>254</th>\n",
       "      <td>8400</td>\n",
       "      <td>5</td>\n",
       "      <td>6</td>\n",
       "      <td>1</td>\n",
       "      <td>3</td>\n",
       "      <td>3</td>\n",
       "      <td>1314</td>\n",
       "      <td>0</td>\n",
       "      <td>0</td>\n",
       "      <td>1</td>\n",
       "      <td>...</td>\n",
       "      <td>70.0</td>\n",
       "      <td>1</td>\n",
       "      <td>1957</td>\n",
       "      <td>116.025299</td>\n",
       "      <td>1</td>\n",
       "      <td>True</td>\n",
       "      <td>False</td>\n",
       "      <td>3</td>\n",
       "      <td>1</td>\n",
       "      <td>1314</td>\n",
       "    </tr>\n",
       "    <tr>\n",
       "      <th>1066</th>\n",
       "      <td>7837</td>\n",
       "      <td>6</td>\n",
       "      <td>7</td>\n",
       "      <td>1</td>\n",
       "      <td>3</td>\n",
       "      <td>3</td>\n",
       "      <td>799</td>\n",
       "      <td>772</td>\n",
       "      <td>1</td>\n",
       "      <td>2</td>\n",
       "      <td>...</td>\n",
       "      <td>59.0</td>\n",
       "      <td>0</td>\n",
       "      <td>1993</td>\n",
       "      <td>119.044714</td>\n",
       "      <td>1</td>\n",
       "      <td>True</td>\n",
       "      <td>False</td>\n",
       "      <td>4</td>\n",
       "      <td>1</td>\n",
       "      <td>799</td>\n",
       "    </tr>\n",
       "    <tr>\n",
       "      <th>638</th>\n",
       "      <td>8777</td>\n",
       "      <td>5</td>\n",
       "      <td>7</td>\n",
       "      <td>1</td>\n",
       "      <td>3</td>\n",
       "      <td>2</td>\n",
       "      <td>796</td>\n",
       "      <td>0</td>\n",
       "      <td>0</td>\n",
       "      <td>1</td>\n",
       "      <td>...</td>\n",
       "      <td>67.0</td>\n",
       "      <td>1</td>\n",
       "      <td>1910</td>\n",
       "      <td>102.784760</td>\n",
       "      <td>1</td>\n",
       "      <td>True</td>\n",
       "      <td>False</td>\n",
       "      <td>2</td>\n",
       "      <td>1</td>\n",
       "      <td>796</td>\n",
       "    </tr>\n",
       "    <tr>\n",
       "      <th>799</th>\n",
       "      <td>7200</td>\n",
       "      <td>5</td>\n",
       "      <td>7</td>\n",
       "      <td>1</td>\n",
       "      <td>4</td>\n",
       "      <td>3</td>\n",
       "      <td>981</td>\n",
       "      <td>787</td>\n",
       "      <td>1</td>\n",
       "      <td>1</td>\n",
       "      <td>...</td>\n",
       "      <td>60.0</td>\n",
       "      <td>1</td>\n",
       "      <td>1937</td>\n",
       "      <td>85.016142</td>\n",
       "      <td>1</td>\n",
       "      <td>True</td>\n",
       "      <td>False</td>\n",
       "      <td>4</td>\n",
       "      <td>1</td>\n",
       "      <td>731</td>\n",
       "    </tr>\n",
       "    <tr>\n",
       "      <th>380</th>\n",
       "      <td>5000</td>\n",
       "      <td>5</td>\n",
       "      <td>6</td>\n",
       "      <td>1</td>\n",
       "      <td>4</td>\n",
       "      <td>3</td>\n",
       "      <td>1026</td>\n",
       "      <td>665</td>\n",
       "      <td>0</td>\n",
       "      <td>2</td>\n",
       "      <td>...</td>\n",
       "      <td>50.0</td>\n",
       "      <td>1</td>\n",
       "      <td>1924</td>\n",
       "      <td>85.016142</td>\n",
       "      <td>1</td>\n",
       "      <td>True</td>\n",
       "      <td>False</td>\n",
       "      <td>3</td>\n",
       "      <td>1</td>\n",
       "      <td>1026</td>\n",
       "    </tr>\n",
       "    <tr>\n",
       "      <th>303</th>\n",
       "      <td>9800</td>\n",
       "      <td>5</td>\n",
       "      <td>7</td>\n",
       "      <td>1</td>\n",
       "      <td>3</td>\n",
       "      <td>3</td>\n",
       "      <td>894</td>\n",
       "      <td>0</td>\n",
       "      <td>0</td>\n",
       "      <td>1</td>\n",
       "      <td>...</td>\n",
       "      <td>70.0</td>\n",
       "      <td>1</td>\n",
       "      <td>1972</td>\n",
       "      <td>136.316526</td>\n",
       "      <td>1</td>\n",
       "      <td>False</td>\n",
       "      <td>False</td>\n",
       "      <td>3</td>\n",
       "      <td>1</td>\n",
       "      <td>894</td>\n",
       "    </tr>\n",
       "    <tr>\n",
       "      <th>86</th>\n",
       "      <td>11911</td>\n",
       "      <td>6</td>\n",
       "      <td>5</td>\n",
       "      <td>1</td>\n",
       "      <td>4</td>\n",
       "      <td>3</td>\n",
       "      <td>684</td>\n",
       "      <td>876</td>\n",
       "      <td>1</td>\n",
       "      <td>2</td>\n",
       "      <td>...</td>\n",
       "      <td>122.0</td>\n",
       "      <td>0</td>\n",
       "      <td>2005</td>\n",
       "      <td>119.044714</td>\n",
       "      <td>1</td>\n",
       "      <td>True</td>\n",
       "      <td>False</td>\n",
       "      <td>4</td>\n",
       "      <td>3</td>\n",
       "      <td>684</td>\n",
       "    </tr>\n",
       "    <tr>\n",
       "      <th>1385</th>\n",
       "      <td>5436</td>\n",
       "      <td>4</td>\n",
       "      <td>8</td>\n",
       "      <td>1</td>\n",
       "      <td>4</td>\n",
       "      <td>3</td>\n",
       "      <td>796</td>\n",
       "      <td>358</td>\n",
       "      <td>0</td>\n",
       "      <td>1</td>\n",
       "      <td>...</td>\n",
       "      <td>40.0</td>\n",
       "      <td>1</td>\n",
       "      <td>1922</td>\n",
       "      <td>93.716193</td>\n",
       "      <td>1</td>\n",
       "      <td>True</td>\n",
       "      <td>False</td>\n",
       "      <td>3</td>\n",
       "      <td>1</td>\n",
       "      <td>796</td>\n",
       "    </tr>\n",
       "    <tr>\n",
       "      <th>265</th>\n",
       "      <td>12090</td>\n",
       "      <td>6</td>\n",
       "      <td>6</td>\n",
       "      <td>1</td>\n",
       "      <td>4</td>\n",
       "      <td>3</td>\n",
       "      <td>1422</td>\n",
       "      <td>0</td>\n",
       "      <td>0</td>\n",
       "      <td>2</td>\n",
       "      <td>...</td>\n",
       "      <td>78.0</td>\n",
       "      <td>0</td>\n",
       "      <td>1981</td>\n",
       "      <td>111.786726</td>\n",
       "      <td>1</td>\n",
       "      <td>True</td>\n",
       "      <td>False</td>\n",
       "      <td>4</td>\n",
       "      <td>1</td>\n",
       "      <td>1422</td>\n",
       "    </tr>\n",
       "    <tr>\n",
       "      <th>793</th>\n",
       "      <td>9158</td>\n",
       "      <td>8</td>\n",
       "      <td>5</td>\n",
       "      <td>1</td>\n",
       "      <td>4</td>\n",
       "      <td>3</td>\n",
       "      <td>1496</td>\n",
       "      <td>0</td>\n",
       "      <td>0</td>\n",
       "      <td>2</td>\n",
       "      <td>...</td>\n",
       "      <td>76.0</td>\n",
       "      <td>1</td>\n",
       "      <td>2007</td>\n",
       "      <td>142.467665</td>\n",
       "      <td>1</td>\n",
       "      <td>False</td>\n",
       "      <td>True</td>\n",
       "      <td>4</td>\n",
       "      <td>3</td>\n",
       "      <td>1496</td>\n",
       "    </tr>\n",
       "  </tbody>\n",
       "</table>\n",
       "<p>10 rows × 24 columns</p>\n",
       "</div>"
      ],
      "text/plain": [
       "      LotArea  OverallQual  OverallCond  KitchenAbvGr  KitchenQual  \\\n",
       "254      8400            5            6             1            3   \n",
       "1066     7837            6            7             1            3   \n",
       "638      8777            5            7             1            3   \n",
       "799      7200            5            7             1            4   \n",
       "380      5000            5            6             1            4   \n",
       "303      9800            5            7             1            3   \n",
       "86      11911            6            5             1            4   \n",
       "1385     5436            4            8             1            4   \n",
       "265     12090            6            6             1            4   \n",
       "793      9158            8            5             1            4   \n",
       "\n",
       "      BedroomAbvGr  1stFlrSF  2ndFlrSF  HalfBath  FullBath  ...  LotFrontage  \\\n",
       "254              3      1314         0         0         1  ...         70.0   \n",
       "1066             3       799       772         1         2  ...         59.0   \n",
       "638              2       796         0         0         1  ...         67.0   \n",
       "799              3       981       787         1         1  ...         60.0   \n",
       "380              3      1026       665         0         2  ...         50.0   \n",
       "303              3       894         0         0         1  ...         70.0   \n",
       "86               3       684       876         1         2  ...        122.0   \n",
       "1385             3       796       358         0         1  ...         40.0   \n",
       "265              3      1422         0         0         2  ...         78.0   \n",
       "793              3      1496         0         0         2  ...         76.0   \n",
       "\n",
       "      LotShape  YearBuilt  AvgCostPerArea  RoofStyle  Normal  Partial  \\\n",
       "254          1       1957      116.025299          1    True    False   \n",
       "1066         0       1993      119.044714          1    True    False   \n",
       "638          1       1910      102.784760          1    True    False   \n",
       "799          1       1937       85.016142          1    True    False   \n",
       "380          1       1924       85.016142          1    True    False   \n",
       "303          1       1972      136.316526          1   False    False   \n",
       "86           0       2005      119.044714          1    True    False   \n",
       "1385         1       1922       93.716193          1    True    False   \n",
       "265          0       1981      111.786726          1    True    False   \n",
       "793          1       2007      142.467665          1   False     True   \n",
       "\n",
       "      BsmtQual  BsmtExposure  TotalBsmtSF  \n",
       "254          3             1         1314  \n",
       "1066         4             1          799  \n",
       "638          2             1          796  \n",
       "799          4             1          731  \n",
       "380          3             1         1026  \n",
       "303          3             1          894  \n",
       "86           4             3          684  \n",
       "1385         3             1          796  \n",
       "265          4             1         1422  \n",
       "793          4             3         1496  \n",
       "\n",
       "[10 rows x 24 columns]"
      ]
     },
     "execution_count": 764,
     "metadata": {},
     "output_type": "execute_result"
    }
   ],
   "source": [
    "df_train[used_cols].head(10)"
   ]
  },
  {
   "cell_type": "code",
   "execution_count": 765,
   "id": "c9a64d27",
   "metadata": {},
   "outputs": [],
   "source": [
    "X_train = df_train[used_cols].values\n",
    "y_train = df_train[\"SalePrice\"].values\n",
    "\n",
    "\n",
    "X_val = df_val[used_cols].values\n",
    "y_val = df_val[\"SalePrice\"].values"
   ]
  },
  {
   "cell_type": "code",
   "execution_count": 766,
   "id": "1a15eccb",
   "metadata": {},
   "outputs": [
    {
     "data": {
      "text/plain": [
       "<perpetual.booster.PerpetualBooster at 0x1c04fcb2c50>"
      ]
     },
     "execution_count": 766,
     "metadata": {},
     "output_type": "execute_result"
    }
   ],
   "source": [
    "# Models\n",
    "xgb_1 = xg.XGBRegressor(n_estimators=100, max_depth=3, seed=42)\n",
    "xgb_2 = xg.XGBRegressor(n_estimators=100, max_depth=4, seed=42)\n",
    "cat_model = CatBoostRegressor(n_estimators=100, max_depth=3, silent=True)\n",
    "per_model = PerpetualBooster(objective=\"SquaredLoss\", budget=0.5)\n",
    "\n",
    "# Fits\n",
    "xgb_1.fit(X_train, y_train)\n",
    "xgb_2.fit(X_train, y_train)\n",
    "cat_model.fit(X_train, y_train)\n",
    "per_model.fit(X_train, y_train)"
   ]
  },
  {
   "cell_type": "markdown",
   "id": "338eabbc",
   "metadata": {},
   "source": [
    "# Feature Selection"
   ]
  },
  {
   "cell_type": "code",
   "execution_count": 767,
   "id": "331a74c9",
   "metadata": {},
   "outputs": [
    {
     "name": "stdout",
     "output_type": "stream",
     "text": [
      "Feature Importances:\n",
      "OverallQual: 0.3119\n",
      "BsmtQual: 0.1945\n",
      "GarageCars: 0.1158\n",
      "FullBath: 0.1069\n",
      "KitchenQual: 0.0352\n",
      "2ndFlrSF: 0.0305\n",
      "AvgCostPerArea: 0.0250\n",
      "Fireplaces: 0.0246\n",
      "HalfBath: 0.0205\n",
      "1stFlrSF: 0.0198\n",
      "TotalBsmtSF: 0.0176\n",
      "Partial: 0.0154\n",
      "BsmtFullBath: 0.0149\n",
      "LotArea: 0.0127\n",
      "HeatingQC: 0.0119\n",
      "OverallCond: 0.0084\n",
      "BedroomAbvGr: 0.0078\n",
      "KitchenAbvGr: 0.0061\n",
      "YearBuilt: 0.0052\n",
      "BsmtExposure: 0.0040\n",
      "Normal: 0.0038\n",
      "LotFrontage: 0.0032\n",
      "RoofStyle: 0.0024\n",
      "LotShape: 0.0020\n"
     ]
    }
   ],
   "source": [
    "show_feature_importances(xgb_1)"
   ]
  },
  {
   "cell_type": "markdown",
   "id": "37a931a8",
   "metadata": {},
   "source": [
    "# Validação"
   ]
  },
  {
   "cell_type": "code",
   "execution_count": 768,
   "id": "5c6d7c59",
   "metadata": {},
   "outputs": [],
   "source": [
    "xgb_preds_1_val = xgb_1.predict(X_val)\n",
    "xgb_preds_2_val = xgb_2.predict(X_val)\n",
    "cat_preds_val = cat_model.predict(X_val)\n",
    "per_preds_val = per_model.predict(X_val)"
   ]
  },
  {
   "cell_type": "code",
   "execution_count": 769,
   "id": "f4e10a87",
   "metadata": {},
   "outputs": [
    {
     "name": "stdout",
     "output_type": "stream",
     "text": [
      "RMSE is 26268.19 for w=0.0\n",
      "RMSE is 25959.58 for w=0.1\n",
      "RMSE is 25736.65 for w=0.2\n",
      "RMSE is 25573.00 for w=0.30000000000000004\n",
      "RMSE is 25451.30 for w=0.4\n",
      "RMSE is 25359.91 for w=0.5\n",
      "RMSE is 25290.78 for w=0.6000000000000001\n",
      "RMSE is 25238.26 for w=0.7000000000000001\n",
      "RMSE is 25198.29 for w=0.8\n",
      "RMSE is 25167.91 for w=0.9\n",
      "RMSE is 25144.92 for w=1.0\n",
      "RMSE is 25127.70 for w=1.1\n",
      "1.1\n"
     ]
    }
   ],
   "source": [
    "min_rms = float('inf')\n",
    "min_w1 = 1e10\n",
    "min_w2 = 1e10\n",
    "min_w3 = 1e10\n",
    "weights = list(np.arange(0,1.2,0.1))\n",
    "\n",
    "for idx, w in enumerate(weights):\n",
    "        curr_val = (1*xgb_preds_1_val + w*cat_preds_val)/(1 + w) \n",
    "        rms = sqrt(mean_squared_error(y_val, curr_val))\n",
    "        if rms< min_rms:\n",
    "            print(f\"RMSE is {rms:.2f} for w={w}\")\n",
    "            min_rms = rms\n",
    "            min_w1 = w\n",
    "print(min_w1)"
   ]
  },
  {
   "cell_type": "code",
   "execution_count": 770,
   "id": "725c79f9",
   "metadata": {},
   "outputs": [
    {
     "name": "stdout",
     "output_type": "stream",
     "text": [
      "RMSE is 25107.44 for w=0.1\n",
      "RMSE is 25097.73 for w=0.2\n",
      "RMSE is 25096.22 for w=0.30000000000000004\n",
      "0.30000000000000004\n"
     ]
    }
   ],
   "source": [
    "for idx, w in enumerate(weights):\n",
    "        curr_val = (1*xgb_preds_1_val + min_w1*cat_preds_val + w*xgb_preds_2_val)/(1 + min_w1 + w) \n",
    "        rms = sqrt(mean_squared_error(y_val, curr_val))\n",
    "        if rms< min_rms:\n",
    "            print(f\"RMSE is {rms:.2f} for w={w}\")\n",
    "            min_rms = rms\n",
    "            min_w2 = w\n",
    "print(min_w2)"
   ]
  },
  {
   "cell_type": "code",
   "execution_count": 771,
   "id": "f341534b",
   "metadata": {},
   "outputs": [
    {
     "name": "stdout",
     "output_type": "stream",
     "text": [
      "RMSE is 25053.66 for w=0.1\n",
      "RMSE is 25025.23 for w=0.2\n",
      "RMSE is 25008.22 for w=0.30000000000000004\n",
      "RMSE is 25000.47 for w=0.4\n",
      "RMSE is 25000.23 for w=0.5\n",
      "0.5\n"
     ]
    }
   ],
   "source": [
    "for idx, w in enumerate(weights):\n",
    "        curr_val = (1*xgb_preds_1_val + min_w1*cat_preds_val + min_w2*xgb_preds_2_val + w*per_preds_val)/(1 + min_w1 + min_w2 + w) \n",
    "        rms = sqrt(mean_squared_error(y_val, curr_val))\n",
    "        if rms< min_rms:\n",
    "            print(f\"RMSE is {rms:.2f} for w={w}\")\n",
    "            min_rms = rms\n",
    "            min_w3 = w\n",
    "\n",
    "print(min_w3)\n",
    "\n",
    "y_preds_val = (1*xgb_preds_1_val + min_w1*cat_preds_val + min_w2*xgb_preds_2_val + min_w3*per_preds_val)/(1 + min_w1 + min_w2 + min_w3) "
   ]
  },
  {
   "cell_type": "code",
   "execution_count": 772,
   "id": "24eaafd7",
   "metadata": {
    "scrolled": true
   },
   "outputs": [
    {
     "name": "stdout",
     "output_type": "stream",
     "text": [
      "RMSE is 25000.23\n"
     ]
    }
   ],
   "source": [
    "rms = sqrt(mean_squared_error(y_preds_val, y_val))\n",
    "print(f\"RMSE is {rms:.2f}\")"
   ]
  },
  {
   "cell_type": "markdown",
   "id": "3f9cffea",
   "metadata": {},
   "source": [
    "# Plot Residual"
   ]
  },
  {
   "cell_type": "code",
   "execution_count": 773,
   "id": "cf1c0d43",
   "metadata": {
    "scrolled": true
   },
   "outputs": [
    {
     "data": {
      "image/png": "[encoded data removed]",
      "text/plain": [
       "<Figure size 640x480 with 1 Axes>"
      ]
     },
     "metadata": {},
     "output_type": "display_data"
    }
   ],
   "source": [
    "plot_residuals(y_preds_val, y_val)"
   ]
  },
  {
   "cell_type": "code",
   "execution_count": 774,
   "id": "7af5c090",
   "metadata": {},
   "outputs": [],
   "source": [
    "X_test = get_X_test(df_test, used_cols)\n",
    "\n",
    "xgb_preds_1_test = xgb_1.predict(X_test)\n",
    "xgb_preds_2_test = xgb_2.predict(X_test)\n",
    "cat_preds_test = cat_model.predict(X_test)\n",
    "per_preds_test = per_model.predict(X_test)\n",
    "\n",
    "y_preds = (xgb_preds_1_test + min_w1*cat_preds_test + min_w2*xgb_preds_2_test + min_w3*per_preds_test)/(1 + min_w1 + min_w2 + min_w3) "
   ]
  },
  {
   "cell_type": "markdown",
   "id": "ef9d67e4",
   "metadata": {},
   "source": [
    "# Submissão"
   ]
  },
  {
   "cell_type": "code",
   "execution_count": 634,
   "id": "24d17c4f",
   "metadata": {
    "scrolled": false
   },
   "outputs": [
    {
     "data": {
      "text/html": [
       "<div>\n",
       "<style scoped>\n",
       "    .dataframe tbody tr th:only-of-type {\n",
       "        vertical-align: middle;\n",
       "    }\n",
       "\n",
       "    .dataframe tbody tr th {\n",
       "        vertical-align: top;\n",
       "    }\n",
       "\n",
       "    .dataframe thead th {\n",
       "        text-align: right;\n",
       "    }\n",
       "</style>\n",
       "<table border=\"1\" class=\"dataframe\">\n",
       "  <thead>\n",
       "    <tr style=\"text-align: right;\">\n",
       "      <th></th>\n",
       "      <th>Id</th>\n",
       "      <th>SalePrice</th>\n",
       "    </tr>\n",
       "  </thead>\n",
       "  <tbody>\n",
       "    <tr>\n",
       "      <th>0</th>\n",
       "      <td>1461</td>\n",
       "      <td>118564.032116</td>\n",
       "    </tr>\n",
       "    <tr>\n",
       "      <th>1</th>\n",
       "      <td>1462</td>\n",
       "      <td>156065.816312</td>\n",
       "    </tr>\n",
       "    <tr>\n",
       "      <th>2</th>\n",
       "      <td>1463</td>\n",
       "      <td>171140.008747</td>\n",
       "    </tr>\n",
       "    <tr>\n",
       "      <th>3</th>\n",
       "      <td>1464</td>\n",
       "      <td>186269.973276</td>\n",
       "    </tr>\n",
       "    <tr>\n",
       "      <th>4</th>\n",
       "      <td>1465</td>\n",
       "      <td>187257.212319</td>\n",
       "    </tr>\n",
       "    <tr>\n",
       "      <th>5</th>\n",
       "      <td>1466</td>\n",
       "      <td>184949.836346</td>\n",
       "    </tr>\n",
       "    <tr>\n",
       "      <th>6</th>\n",
       "      <td>1467</td>\n",
       "      <td>172271.498827</td>\n",
       "    </tr>\n",
       "    <tr>\n",
       "      <th>7</th>\n",
       "      <td>1468</td>\n",
       "      <td>163426.298983</td>\n",
       "    </tr>\n",
       "    <tr>\n",
       "      <th>8</th>\n",
       "      <td>1469</td>\n",
       "      <td>196848.909835</td>\n",
       "    </tr>\n",
       "    <tr>\n",
       "      <th>9</th>\n",
       "      <td>1470</td>\n",
       "      <td>114443.745261</td>\n",
       "    </tr>\n",
       "  </tbody>\n",
       "</table>\n",
       "</div>"
      ],
      "text/plain": [
       "     Id      SalePrice\n",
       "0  1461  118564.032116\n",
       "1  1462  156065.816312\n",
       "2  1463  171140.008747\n",
       "3  1464  186269.973276\n",
       "4  1465  187257.212319\n",
       "5  1466  184949.836346\n",
       "6  1467  172271.498827\n",
       "7  1468  163426.298983\n",
       "8  1469  196848.909835\n",
       "9  1470  114443.745261"
      ]
     },
     "execution_count": 634,
     "metadata": {},
     "output_type": "execute_result"
    }
   ],
   "source": [
    "df = create_submission(df_test, y_preds)\n",
    "df.to_csv('submission.csv',index=False)\n",
    "df.head(10)"
   ]
  },
  {
   "cell_type": "markdown",
   "id": "64d55098",
   "metadata": {},
   "source": [
    "# Pontos-chave"
   ]
  },
  {
   "cell_type": "markdown",
   "id": "e4446f71",
   "metadata": {},
   "source": [
    "- Incluímos novas variáveis relativas ao telhado, metro quadrado da vizinhança, porão e ao ano de construção\n",
    "- Score obtido: 0.14366"
   ]
  }
 ],
 "metadata": {
  "kernelspec": {
   "display_name": "Python 3 (ipykernel)",
   "language": "python",
   "name": "python3"
  },
  "language_info": {
   "codemirror_mode": {
    "name": "ipython",
    "version": 3
   },
   "file_extension": ".py",
   "mimetype": "text/x-python",
   "name": "python",
   "nbconvert_exporter": "python",
   "pygments_lexer": "ipython3",
   "version": "3.11.5"
  }
 },
 "nbformat": 4,
 "nbformat_minor": 5
}
